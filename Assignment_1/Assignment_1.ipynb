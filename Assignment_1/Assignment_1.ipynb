{
 "cells": [
  {
   "cell_type": "markdown",
   "metadata": {},
   "source": [
    "# Question1"
   ]
  },
  {
   "cell_type": "markdown",
   "metadata": {},
   "source": [
    "* ----> expression\n",
    "'hello' ----> value\n",
    "-87.8 ----> value\n",
    "- ----> expression\n",
    "/ ----> expression\n",
    "+ ----> expression\n",
    "6 ----> value"
   ]
  },
  {
   "cell_type": "markdown",
   "metadata": {},
   "source": [
    "# Question2"
   ]
  },
  {
   "cell_type": "markdown",
   "metadata": {},
   "source": [
    "Variable : Variable refers to the identifier or simply a kind of room to store the values in a memory location which can be accessed and manipulated later for future references.\n",
    "String  : String is a type of variable (data type) in python for storing the sequence of characters (denoted in \"\" in python).\n",
    "    \n",
    "Example :\n",
    "    a = \"shriranjani\"\n",
    "    \n",
    "    In the above example a is the variable that stores the string named as \"shriranjani\""
   ]
  },
  {
   "cell_type": "markdown",
   "metadata": {},
   "source": [
    "# Question 3"
   ]
  },
  {
   "cell_type": "markdown",
   "metadata": {},
   "source": [
    "Different data types in python :\n",
    "    1) Integer\n",
    "    2) Complex number\n",
    "    3) Float\n",
    "    4) String\n",
    "    5) List\n",
    "    6) Tuple\n",
    "    7) Dictionary\n",
    "    8) set\n",
    "    9) Boolean\n",
    "    "
   ]
  },
  {
   "cell_type": "markdown",
   "metadata": {},
   "source": [
    "# Question 4"
   ]
  },
  {
   "cell_type": "markdown",
   "metadata": {},
   "source": [
    "Expressions : An expression is a combination of values, variables, operators, and calls to functions. An expression evaluates to a value.\n",
    "Three  types of expressions :\n",
    "    1) An arithmetic expression evaluates to a single arithmetic value. \n",
    "    2) A character expression evaluates to a single value of type character. \n",
    "    3) A logical or relational expression evaluates to a single logical value.\n",
    "    \n",
    "Expressions only contain identifiers, literals and operators, where operators include arithmetic and boolean operators and can be reduced to some kind of value."
   ]
  },
  {
   "cell_type": "markdown",
   "metadata": {},
   "source": [
    "# Question 5"
   ]
  },
  {
   "cell_type": "markdown",
   "metadata": {},
   "source": [
    "A statement is an instruction that the Python interpreter can execute. A program is formed by a sequence of one or more statements. A statement will have internal components (e.g., expressions)\n",
    "Example : The assignment statement and the import statement,if statements, while statements, and for statements.\n",
    "When you type a statement on the command line, Python executes it. The interpreter does not display any results.\n",
    "Example : print 42\n",
    "if x: do_y()\n",
    "    \n",
    "\n",
    "An expression is a combination of values, variables, operators, and calls to functions. \n",
    "If you type an expression at the Python prompt, the interpreter evaluates it and displays the result, which is always a value\n",
    "Example : 3 + 5\n",
    "map(lambda x: x*x, range(10))\n",
    "\n",
    "All expressions are statements as well.\n"
   ]
  },
  {
   "cell_type": "markdown",
   "metadata": {},
   "source": [
    "# Question 6"
   ]
  },
  {
   "cell_type": "markdown",
   "metadata": {},
   "source": [
    "bacon contain 22 \n",
    "Reason : Since In the second statement, assignment is not done\n",
    "    "
   ]
  },
  {
   "cell_type": "markdown",
   "metadata": {},
   "source": [
    "# Question 7"
   ]
  },
  {
   "cell_type": "markdown",
   "metadata": {},
   "source": [
    "'spam' + 'spamspam' = 'spamspamspam'\n",
    "'spam' * 3 = 'spamspamspam'"
   ]
  },
  {
   "cell_type": "markdown",
   "metadata": {},
   "source": [
    "# Question 8"
   ]
  },
  {
   "cell_type": "markdown",
   "metadata": {},
   "source": [
    "Variable names in Python can be any length and can consist of uppercase and lowercase letters (A-Z, a-z), \n",
    "digits (0-9), and the underscore character (_). \n",
    "\n",
    "Although a variable name can contain digits, the first character of a variable name cannot be a digit.\n",
    "\n",
    "So, 100 can not be used as a varibale name"
   ]
  },
  {
   "cell_type": "markdown",
   "metadata": {},
   "source": [
    "# Question 9"
   ]
  },
  {
   "cell_type": "markdown",
   "metadata": {},
   "source": [
    "int()\n",
    "float()\n",
    "string()"
   ]
  },
  {
   "cell_type": "markdown",
   "metadata": {},
   "source": [
    "# Question 10\n"
   ]
  },
  {
   "cell_type": "markdown",
   "metadata": {},
   "source": [
    "'I have eaten ' + 99 + ' burritos.'\n",
    "In the above statemnet 99 is an integer and the other two are strings. So, to concatenate these 3 first convert 99 to string using str(99) which will resolve this issue.\n",
    "\n",
    "Corected : 'I have eaten ' + str(99) + ' burritos'"
   ]
  }
 ],
 "metadata": {
  "kernelspec": {
   "display_name": "Python 3",
   "language": "python",
   "name": "python3"
  },
  "language_info": {
   "codemirror_mode": {
    "name": "ipython",
    "version": 3
   },
   "file_extension": ".py",
   "mimetype": "text/x-python",
   "name": "python",
   "nbconvert_exporter": "python",
   "pygments_lexer": "ipython3",
   "version": "3.8.5"
  }
 },
 "nbformat": 4,
 "nbformat_minor": 4
}
